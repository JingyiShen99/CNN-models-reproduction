{
 "cells": [
  {
   "cell_type": "code",
   "execution_count": 1,
   "metadata": {},
   "outputs": [],
   "source": [
    "import torch\n",
    "import torch.nn as nn\n",
    "import torch.optim as optim\n",
    "from torchvision import datasets\n",
    "from torchvision import transforms as T\n",
    "from torch.utils.data import DataLoader\n",
    "\n",
    "import matplotlib.pyplot as plt"
   ]
  },
  {
   "cell_type": "code",
   "execution_count": 2,
   "metadata": {},
   "outputs": [],
   "source": [
    "#data processing\n",
    "imgProcessor = T.Compose(\n",
    "                        [T.Resize((16,16)),\n",
    "                         T.ToTensor(),\n",
    "                         T.Normalize(\n",
    "                                 mean = [0.5],\n",
    "                                 std = [0.5]) #change the img range from [0,1] to [-1,1]\n",
    "                        ])"
   ]
  },
  {
   "cell_type": "code",
   "execution_count": 3,
   "metadata": {},
   "outputs": [
    {
     "name": "stdout",
     "output_type": "stream",
     "text": [
      "Downloading http://yann.lecun.com/exdb/mnist/train-images-idx3-ubyte.gz\n",
      "Downloading http://yann.lecun.com/exdb/mnist/train-images-idx3-ubyte.gz to E:\\\\github\\\\CNN-models-reproduction\\\\LeNet\\\\dataset\\\\MNIST\\raw\\train-images-idx3-ubyte.gz\n"
     ]
    },
    {
     "data": {
      "application/vnd.jupyter.widget-view+json": {
       "model_id": "d391a366360d425a9f35c5e6048fc027",
       "version_major": 2,
       "version_minor": 0
      },
      "text/plain": [
       "  0%|          | 0/9912422 [00:00<?, ?it/s]"
      ]
     },
     "metadata": {},
     "output_type": "display_data"
    },
    {
     "name": "stdout",
     "output_type": "stream",
     "text": [
      "Extracting E:\\\\github\\\\CNN-models-reproduction\\\\LeNet\\\\dataset\\\\MNIST\\raw\\train-images-idx3-ubyte.gz to E:\\\\github\\\\CNN-models-reproduction\\\\LeNet\\\\dataset\\\\MNIST\\raw\n",
      "\n",
      "Downloading http://yann.lecun.com/exdb/mnist/train-labels-idx1-ubyte.gz\n",
      "Downloading http://yann.lecun.com/exdb/mnist/train-labels-idx1-ubyte.gz to E:\\\\github\\\\CNN-models-reproduction\\\\LeNet\\\\dataset\\\\MNIST\\raw\\train-labels-idx1-ubyte.gz\n"
     ]
    },
    {
     "data": {
      "application/vnd.jupyter.widget-view+json": {
       "model_id": "ce00f04902604801b4f672dc5cb1b651",
       "version_major": 2,
       "version_minor": 0
      },
      "text/plain": [
       "  0%|          | 0/28881 [00:00<?, ?it/s]"
      ]
     },
     "metadata": {},
     "output_type": "display_data"
    },
    {
     "name": "stdout",
     "output_type": "stream",
     "text": [
      "Extracting E:\\\\github\\\\CNN-models-reproduction\\\\LeNet\\\\dataset\\\\MNIST\\raw\\train-labels-idx1-ubyte.gz to E:\\\\github\\\\CNN-models-reproduction\\\\LeNet\\\\dataset\\\\MNIST\\raw\n",
      "\n",
      "Downloading http://yann.lecun.com/exdb/mnist/t10k-images-idx3-ubyte.gz\n",
      "Downloading http://yann.lecun.com/exdb/mnist/t10k-images-idx3-ubyte.gz to E:\\\\github\\\\CNN-models-reproduction\\\\LeNet\\\\dataset\\\\MNIST\\raw\\t10k-images-idx3-ubyte.gz\n"
     ]
    },
    {
     "data": {
      "application/vnd.jupyter.widget-view+json": {
       "model_id": "5e800aadf8be469eb040d63c81cb936f",
       "version_major": 2,
       "version_minor": 0
      },
      "text/plain": [
       "  0%|          | 0/1648877 [00:00<?, ?it/s]"
      ]
     },
     "metadata": {},
     "output_type": "display_data"
    },
    {
     "name": "stdout",
     "output_type": "stream",
     "text": [
      "Extracting E:\\\\github\\\\CNN-models-reproduction\\\\LeNet\\\\dataset\\\\MNIST\\raw\\t10k-images-idx3-ubyte.gz to E:\\\\github\\\\CNN-models-reproduction\\\\LeNet\\\\dataset\\\\MNIST\\raw\n",
      "\n",
      "Downloading http://yann.lecun.com/exdb/mnist/t10k-labels-idx1-ubyte.gz\n",
      "Downloading http://yann.lecun.com/exdb/mnist/t10k-labels-idx1-ubyte.gz to E:\\\\github\\\\CNN-models-reproduction\\\\LeNet\\\\dataset\\\\MNIST\\raw\\t10k-labels-idx1-ubyte.gz\n"
     ]
    },
    {
     "data": {
      "application/vnd.jupyter.widget-view+json": {
       "model_id": "bca3be544580421ba7233f21cec0f379",
       "version_major": 2,
       "version_minor": 0
      },
      "text/plain": [
       "  0%|          | 0/4542 [00:00<?, ?it/s]"
      ]
     },
     "metadata": {},
     "output_type": "display_data"
    },
    {
     "name": "stdout",
     "output_type": "stream",
     "text": [
      "Extracting E:\\\\github\\\\CNN-models-reproduction\\\\LeNet\\\\dataset\\\\MNIST\\raw\\t10k-labels-idx1-ubyte.gz to E:\\\\github\\\\CNN-models-reproduction\\\\LeNet\\\\dataset\\\\MNIST\\raw\n",
      "\n"
     ]
    }
   ],
   "source": [
    "#data loading\n",
    "dataPath = r\"E:\\\\github\\\\CNN-models-reproduction\\\\LeNet\\\\dataset\\\\\"\n",
    "mnistTrain = datasets.MNIST(dataPath,train=True,download=True,transform=imgProcessor)\n",
    "mmnistTest = datasets.MNIST(dataPath,train=False,download=True,transform=imgProcessor)"
   ]
  },
  {
   "cell_type": "code",
   "execution_count": 5,
   "metadata": {},
   "outputs": [
    {
     "name": "stdout",
     "output_type": "stream",
     "text": [
      "<class 'torch.Tensor'>\n",
      "tensor([[[-1.0000, -1.0000, -1.0000, -1.0000, -1.0000, -1.0000, -1.0000,\n",
      "          -1.0000, -1.0000, -1.0000, -1.0000, -1.0000, -1.0000, -1.0000,\n",
      "          -1.0000, -1.0000],\n",
      "         [-1.0000, -1.0000, -1.0000, -1.0000, -1.0000, -1.0000, -1.0000,\n",
      "          -1.0000, -1.0000, -1.0000, -1.0000, -1.0000, -1.0000, -1.0000,\n",
      "          -1.0000, -1.0000],\n",
      "         [-1.0000, -1.0000, -1.0000, -1.0000, -1.0000, -1.0000, -1.0000,\n",
      "          -0.9843, -0.9608, -0.8353, -0.7882, -0.8039, -0.6314, -0.8196,\n",
      "          -1.0000, -1.0000],\n",
      "         [-1.0000, -1.0000, -1.0000, -0.9922, -0.8353, -0.5686, -0.2471,\n",
      "           0.0667,  0.2235,  0.4745,  0.3255,  0.2392,  0.5294, -0.3961,\n",
      "          -1.0000, -1.0000],\n",
      "         [-1.0000, -1.0000, -1.0000, -0.9765, -0.2392,  0.7098,  0.8588,\n",
      "           0.9137,  0.7569,  0.8588, -0.0824, -0.4980, -0.6000, -0.8980,\n",
      "          -1.0000, -1.0000],\n",
      "         [-1.0000, -1.0000, -1.0000, -1.0000, -0.6863, -0.0824,  0.5529,\n",
      "           0.5216, -0.5294, -0.3725, -0.7176, -1.0000, -1.0000, -1.0000,\n",
      "          -1.0000, -1.0000],\n",
      "         [-1.0000, -1.0000, -1.0000, -1.0000, -1.0000, -0.9843, -0.1451,\n",
      "           0.3882, -0.7725, -1.0000, -1.0000, -1.0000, -1.0000, -1.0000,\n",
      "          -1.0000, -1.0000],\n",
      "         [-1.0000, -1.0000, -1.0000, -1.0000, -1.0000, -1.0000, -0.8039,\n",
      "           0.2471,  0.1294, -0.4745, -0.9529, -1.0000, -1.0000, -1.0000,\n",
      "          -1.0000, -1.0000],\n",
      "         [-1.0000, -1.0000, -1.0000, -1.0000, -1.0000, -1.0000, -0.9922,\n",
      "          -0.5922,  0.3098,  0.6078, -0.3020, -0.9216, -1.0000, -1.0000,\n",
      "          -1.0000, -1.0000],\n",
      "         [-1.0000, -1.0000, -1.0000, -1.0000, -1.0000, -1.0000, -1.0000,\n",
      "          -0.9922, -0.8039,  0.0275,  0.7725, -0.3490, -0.9843, -1.0000,\n",
      "          -1.0000, -1.0000],\n",
      "         [-1.0000, -1.0000, -1.0000, -1.0000, -1.0000, -1.0000, -0.9843,\n",
      "          -0.8039, -0.3255,  0.3333,  0.9216, -0.2235, -0.9843, -1.0000,\n",
      "          -1.0000, -1.0000],\n",
      "         [-1.0000, -1.0000, -1.0000, -1.0000, -0.9922, -0.8745, -0.3412,\n",
      "           0.4196,  0.8275,  0.7412,  0.1294, -0.7255, -1.0000, -1.0000,\n",
      "          -1.0000, -1.0000],\n",
      "         [-1.0000, -1.0000, -0.9765, -0.8431, -0.3725,  0.1686,  0.7961,\n",
      "           0.7647,  0.2471, -0.4667, -0.8980, -1.0000, -1.0000, -1.0000,\n",
      "          -1.0000, -1.0000],\n",
      "         [-1.0000, -1.0000, -0.4745,  0.4118,  0.8039,  0.7490,  0.4118,\n",
      "          -0.4118, -0.8980, -1.0000, -1.0000, -1.0000, -1.0000, -1.0000,\n",
      "          -1.0000, -1.0000],\n",
      "         [-1.0000, -1.0000, -0.7333, -0.4588, -0.4902, -0.6706, -0.8980,\n",
      "          -1.0000, -1.0000, -1.0000, -1.0000, -1.0000, -1.0000, -1.0000,\n",
      "          -1.0000, -1.0000],\n",
      "         [-1.0000, -1.0000, -1.0000, -1.0000, -1.0000, -1.0000, -1.0000,\n",
      "          -1.0000, -1.0000, -1.0000, -1.0000, -1.0000, -1.0000, -1.0000,\n",
      "          -1.0000, -1.0000]]])\n",
      "<class 'int'>\n",
      "5\n"
     ]
    }
   ],
   "source": [
    " #data example\n",
    "image,label = mnistTrain[0]\n",
    "print(type(image)) #tensor\n",
    "print(image)\n",
    "print(type(label)) #int\n",
    "print(label)"
   ]
  },
  {
   "cell_type": "code",
   "execution_count": 7,
   "metadata": {},
   "outputs": [
    {
     "name": "stdout",
     "output_type": "stream",
     "text": [
      "cuda:0\n"
     ]
    }
   ],
   "source": [
    "device = torch.device('cuda:0') if torch.cuda.is_available() else torch.device('cpu')\n",
    "print(device)"
   ]
  },
  {
   "cell_type": "code",
   "execution_count": 23,
   "metadata": {},
   "outputs": [],
   "source": [
    "##Network (include weight initialization)\n",
    "class LeNet1989(nn.Module):\n",
    "    def __init__(self):\n",
    "        super(LeNet1989,self).__init__()\n",
    "        \n",
    "        self.conv1 = nn.Conv2d(1,12,5,stride = 2, padding = 2)\n",
    "        self.act1 = nn.Tanh()\n",
    "\n",
    "        self.conv2 = nn.Conv2d(12,12,5,stride = 2, padding = 2)\n",
    "        self.act2 = nn.Tanh()\n",
    "\n",
    "        self.fc1 = nn.Linear(192,30)\n",
    "        self.act3 = nn.Tanh()\n",
    "        \n",
    "        self.fc2 = nn.Linear(30,10)\n",
    "        self.act4 = nn.Tanh()\n",
    "        \n",
    "        for m in self.modules():\n",
    "            if isinstance(m, nn.Conv2d):\n",
    "                F_in = m.kernel_size[0] * m.kernel_size[1] * m.out_channels\n",
    "                m.weight.data = torch.rand(m.weight.data.size()) * 4.8 / F_in - 2.4 / F_in\n",
    "            if isinstance(m, nn.Linear):\n",
    "                F_in = m.out_features\n",
    "                m.weight.data = torch.rand(m.weight.data.size()) * 4.8 / F_in - 2.4 / F_in\n",
    "                \n",
    "    def forward(self,x):\n",
    "        x = self.conv1(x)\n",
    "        x = 1.7195 * self.act1(2.0*x/3.0)\n",
    "        x = self.conv2(x)\n",
    "        x = 1.7195 * self.act2(2.0*x/3.0)\n",
    "\n",
    "        x = x.view(-1,192)\n",
    "\n",
    "        x = self.fc1(x)\n",
    "        x = 1.7195 * self.act3(2.0*x/3.0)\n",
    "        x = self.fc2(x)\n",
    "        out = 1.7195 * self.act4(2.0*x/3.0)\n",
    "\n",
    "        return out"
   ]
  },
  {
   "cell_type": "code",
   "execution_count": 46,
   "metadata": {},
   "outputs": [],
   "source": [
    "#train\n",
    "losslist = []\n",
    "error = []\n",
    "\n",
    "def train(model, epochs, optimizer, loss_fn, trainset, testset):\n",
    "    trainnum = len(trainset)\n",
    "    testnum = len(testset)\n",
    "    for epoch in range(epochs):\n",
    "        print(\"epoch:{:02d} / {:d}\".format(epoch+1,epochs))\n",
    "        losses = 0\n",
    "        for i, (img, label) in enumerate(trainset):\n",
    "            x = img.unsqueeze(0).to(device)\n",
    "            \n",
    "            y = torch.zeros(1, 10)\n",
    "            y[0][label] = 1.0\n",
    "            y = y.to(device)\n",
    "            \n",
    "            out = model(x)\n",
    "            optimizer.zero_grad()\n",
    "            loss = loss_fn(out,y)\n",
    "            loss.backward()\n",
    "            optimizer.step()\n",
    "            losses += loss.item()\n",
    "            \n",
    "            losslist.append(losses/trainnum)\n",
    "        \n",
    "        with torch.no_grad():\n",
    "            errornum = 0\n",
    "            for img, label in testset:\n",
    "                x = img.unsqueeze(0).to(device)\n",
    "                out = model(x)\n",
    "                _, pred_y = out.max(dim = 1)\n",
    "                if pred_y != label:\n",
    "                    errornum += 1\n",
    "                error.append(errornum/testnum)\n",
    "        if epoch %8 == 0:\n",
    "            torch.save(model.state_dict(),r\"E:\\\\github\\\\CNN-models-reproduction\\\\LeNet\\\\epoch-{:d}_loss-{:.6f}_error-{:.2%}.pth\".format(epoch,losslist[-1],error[-1]))"
   ]
  },
  {
   "cell_type": "code",
   "execution_count": 47,
   "metadata": {},
   "outputs": [
    {
     "name": "stdout",
     "output_type": "stream",
     "text": [
      "epoch:01 / 40\n",
      "epoch:02 / 40\n",
      "epoch:03 / 40\n",
      "epoch:04 / 40\n",
      "epoch:05 / 40\n",
      "epoch:06 / 40\n",
      "epoch:07 / 40\n",
      "epoch:08 / 40\n",
      "epoch:09 / 40\n",
      "epoch:10 / 40\n",
      "epoch:11 / 40\n",
      "epoch:12 / 40\n",
      "epoch:13 / 40\n",
      "epoch:14 / 40\n",
      "epoch:15 / 40\n",
      "epoch:16 / 40\n",
      "epoch:17 / 40\n",
      "epoch:18 / 40\n",
      "epoch:19 / 40\n",
      "epoch:20 / 40\n",
      "epoch:21 / 40\n",
      "epoch:22 / 40\n",
      "epoch:23 / 40\n",
      "epoch:24 / 40\n",
      "epoch:25 / 40\n",
      "epoch:26 / 40\n",
      "epoch:27 / 40\n",
      "epoch:28 / 40\n",
      "epoch:29 / 40\n",
      "epoch:30 / 40\n",
      "epoch:31 / 40\n",
      "epoch:32 / 40\n",
      "epoch:33 / 40\n",
      "epoch:34 / 40\n",
      "epoch:35 / 40\n",
      "epoch:36 / 40\n",
      "epoch:37 / 40\n",
      "epoch:38 / 40\n",
      "epoch:39 / 40\n",
      "epoch:40 / 40\n"
     ]
    },
    {
     "data": {
      "image/png": "[encoded data removed]",
      "text/plain": [
       "<Figure size 432x288 with 2 Axes>"
      ]
     },
     "metadata": {
      "needs_background": "light"
     },
     "output_type": "display_data"
    }
   ],
   "source": [
    "if __name__ == '__main__':\n",
    "    model = LeNet1989().to(device)\n",
    "    loss = nn.MSELoss()\n",
    "    optimizer = optim.SGD(model.parameters(), lr = 1e-3)\n",
    "    epochs = 40\n",
    "    train(model, epochs, optimizer, loss, mnistTrain, mmnistTest)\n",
    "    plt.subplot(1,2,1)\n",
    "    plt.plot(losslist)\n",
    "    plt.subplot(1,2,2)\n",
    "    plt.plot(error)\n",
    "    plt.show()"
   ]
  },
  {
   "cell_type": "code",
   "execution_count": null,
   "metadata": {},
   "outputs": [],
   "source": []
  }
 ],
 "metadata": {
  "kernelspec": {
   "display_name": "Python 3",
   "language": "python",
   "name": "python3"
  },
  "language_info": {
   "codemirror_mode": {
    "name": "ipython",
    "version": 3
   },
   "file_extension": ".py",
   "mimetype": "text/x-python",
   "name": "python",
   "nbconvert_exporter": "python",
   "pygments_lexer": "ipython3",
   "version": "3.6.13"
  }
 },
 "nbformat": 4,
 "nbformat_minor": 4
}
